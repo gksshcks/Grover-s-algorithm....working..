{
 "cells": [
  {
   "cell_type": "code",
   "execution_count": 1,
   "id": "initial_id",
   "metadata": {
    "collapsed": true,
    "ExecuteTime": {
     "end_time": "2024-05-01T08:38:13.342877Z",
     "start_time": "2024-05-01T08:38:12.383477Z"
    }
   },
   "outputs": [],
   "source": [
    "from HyperbolicGraphSimulation import HyperbolicGraphSimulation\n",
    "import json\n",
    "import random\n",
    "import networkx as nx\n",
    "import os\n",
    "import matplotlib.pyplot as plt\n",
    "import scipy.stats as ss\n",
    "import scipy.integrate as si\n",
    "from IPython.display import clear_output\n",
    "import time\n",
    "from python_tsp.heuristics import solve_tsp_simulated_annealing, solve_tsp_lin_kernighan\n"
   ]
  },
  {
   "cell_type": "code",
   "outputs": [
    {
     "name": "stderr",
     "output_type": "stream",
     "text": [
      "/bin/bash: warning: setlocale: LC_ALL: cannot change locale (en_US.UTF-8)\n"
     ]
    },
    {
     "name": "stdout",
     "output_type": "stream",
     "text": [
      "found: concorde concorde.c concorde.o \n"
     ]
    },
    {
     "name": "stderr",
     "output_type": "stream",
     "text": [
      "During startup - Warning messages:\n",
      "1: Setting LC_CTYPE failed, using \"C\" \n",
      "2: Setting LC_COLLATE failed, using \"C\" \n",
      "3: Setting LC_TIME failed, using \"C\" \n",
      "4: Setting LC_MESSAGES failed, using \"C\" \n",
      "5: Setting LC_MONETARY failed, using \"C\" \n",
      "6: Setting LC_PAPER failed, using \"C\" \n",
      "7: Setting LC_MEASUREMENT failed, using \"C\" \n"
     ]
    },
    {
     "data": {
      "text/plain": "<rpy2.robjects.vectors.StrVector object at 0x7f7e8836e1c0> [RTYPES.STRSXP]\nR classes: ('character',)\n['/home/woonam/concorde/TSP']",
      "text/html": "\n        <span>StrVector with 1 elements.</span>\n        <table>\n        <tbody>\n          <tr>\n          \n            <td>\n            '/home/woonam/concorde/TSP'\n            </td>\n          \n          </tr>\n        </tbody>\n        </table>\n        "
     },
     "execution_count": 2,
     "metadata": {},
     "output_type": "execute_result"
    }
   ],
   "source": [
    "from rpy2.robjects import r\n",
    "import numpy as np\n",
    "\n",
    "r('library(TSP)')\n",
    "r.concorde_path(\"/home/woonam/concorde/TSP\")"
   ],
   "metadata": {
    "collapsed": false,
    "ExecuteTime": {
     "end_time": "2024-05-01T08:38:13.701016Z",
     "start_time": "2024-05-01T08:38:13.344711Z"
    }
   },
   "id": "6c715808dd82a024",
   "execution_count": 2
  },
  {
   "cell_type": "code",
   "outputs": [],
   "source": [
    "def plot_graph(G):\n",
    "    \"\"\"\n",
    "    Plots the graph using matplotlib.\n",
    "    \n",
    "    Parameters:\n",
    "        G (networkx.Graph): The graph to be plotted.\n",
    "    \"\"\"\n",
    "    # Draw the graph\n",
    "    nx.draw(G, with_labels=True, node_color='lightblue', edge_color='gray')\n",
    "    plt.title(\"Uniformly Sampled Graph\")\n",
    "    plt.show()"
   ],
   "metadata": {
    "collapsed": false,
    "ExecuteTime": {
     "end_time": "2024-05-01T08:38:13.707558Z",
     "start_time": "2024-05-01T08:38:13.702805Z"
    }
   },
   "id": "667b2f62639d0757",
   "execution_count": 3
  },
  {
   "cell_type": "code",
   "outputs": [],
   "source": [
    "def calculate_mean_and_std(lists):\n",
    "    \"\"\"\n",
    "    Find the mean and standard deviation when the number of elements in the list is not equal\n",
    "    :param lists: input list\n",
    "    :return: mean and standard deviation\n",
    "    \"\"\"\n",
    "    # Find the Maximum Length\n",
    "    max_len = max(len(lst) for lst in lists)\n",
    "\n",
    "    # Add each list to the maximum length\n",
    "    padded_lists = [lst + [0] * (max_len - len(lst)) for lst in lists]\n",
    "\n",
    "    # Calculate the mean and standard deviation for each location of the lists\n",
    "    means = np.mean(padded_lists, axis=0)\n",
    "    stds = np.std(padded_lists, axis=0)\n",
    "\n",
    "    return means, stds"
   ],
   "metadata": {
    "collapsed": false,
    "ExecuteTime": {
     "end_time": "2024-05-01T08:38:13.761473Z",
     "start_time": "2024-05-01T08:38:13.709089Z"
    }
   },
   "id": "363ed2f54fc0d7ca",
   "execution_count": 4
  },
  {
   "cell_type": "code",
   "outputs": [],
   "source": [
    "def graph_to_distance_matrix(G):\n",
    "    size = len(G)\n",
    "    dist_matrix = np.zeros((size, size))\n",
    "    for i, u in enumerate(G.nodes()):\n",
    "        for j, v in enumerate(G.nodes()):\n",
    "            if i != j:\n",
    "                dist_matrix[i][j] = G[u][v]['weight'] if G.has_edge(u, v) else size * 10\n",
    "    return dist_matrix"
   ],
   "metadata": {
    "collapsed": false,
    "ExecuteTime": {
     "end_time": "2024-05-01T08:38:13.768080Z",
     "start_time": "2024-05-01T08:38:13.763745Z"
    }
   },
   "id": "49d610cf309eede0",
   "execution_count": 5
  },
  {
   "cell_type": "code",
   "outputs": [],
   "source": [
    "def average_degree(graph):\n",
    "    \"\"\"\n",
    "    Calculates the average degree\n",
    "    :param graph: input graph\n",
    "    :return: average degree of graph\n",
    "    \"\"\"\n",
    "\n",
    "    degree = sum(dict(graph.degree()).values()) / len(graph)\n",
    "\n",
    "    return degree"
   ],
   "metadata": {
    "collapsed": false,
    "ExecuteTime": {
     "end_time": "2024-05-01T08:38:13.774021Z",
     "start_time": "2024-05-01T08:38:13.769882Z"
    }
   },
   "id": "f263ba2e3880267",
   "execution_count": 6
  },
  {
   "cell_type": "code",
   "outputs": [],
   "source": [
    "def hyperbolic_graph_generator(n, k, alpha, radi):\n",
    "    \"\"\"\n",
    "    Generate hyperbolic graph.\n",
    "    :param n: The number of nodes of graph\n",
    "    :param k: Average degree of nodes\n",
    "    :param alpha: Negative curvature\n",
    "    :return: Connected hyperbolic graph G\n",
    "    \"\"\"\n",
    "    # set up simulator\n",
    "    simulator = HyperbolicGraphSimulation()\n",
    "\n",
    "    # generate graph\n",
    "    G = simulator.generateGraph(n, k, alpha, radi)\n",
    "\n",
    "    return G"
   ],
   "metadata": {
    "collapsed": false,
    "ExecuteTime": {
     "end_time": "2024-05-01T08:38:13.780042Z",
     "start_time": "2024-05-01T08:38:13.775637Z"
    }
   },
   "id": "8efc928c1b622b86",
   "execution_count": 7
  },
  {
   "cell_type": "code",
   "outputs": [],
   "source": [
    "def concorde_TSP_solver(mat):\n",
    "    \"\"\"\n",
    "    Solve traveling salesman problem with concorde solver using R\n",
    "    :param mat: input matrix\n",
    "    :return: optimized tour length\n",
    "    \"\"\"\n",
    "    r.assign('mat', mat)\n",
    "    # change list data to matrix data\n",
    "    r('Matrix_x <- matrix(unlist(mat), ncol = length(mat), byrow = TRUE)')\n",
    "    # use concorde TSP solver\n",
    "    r('tsp <- TSP(Matrix_x)')\n",
    "    r('tour <- solve_TSP(tsp, \"concorde\")')\n",
    "    # get tour length from solved data\n",
    "    result = r('tour_length(tour)')\n",
    "\n",
    "    return result"
   ],
   "metadata": {
    "collapsed": false,
    "ExecuteTime": {
     "end_time": "2024-05-01T08:38:13.787300Z",
     "start_time": "2024-05-01T08:38:13.782503Z"
    }
   },
   "id": "340db8ae175ceefe",
   "execution_count": 8
  },
  {
   "cell_type": "code",
   "outputs": [],
   "source": [
    "def weib(x, scale_param, shape_param):\n",
    "    return (shape_param / scale_param) * (x / scale_param)**(shape_param - 1) * np.exp(-(x / scale_param)**shape_param)\n",
    "\n",
    "def normalisation(x, scale_param, shape_param):\n",
    "    return si.simps(weib(x, scale_param, shape_param), x)\n",
    "\n",
    "class weibull(ss.rv_continuous):\n",
    "    def _pdf(self, x, scale_param, shape_param):\n",
    "        return weib(x, scale_param, shape_param)\n",
    "\n",
    "def sample_within_range(samples, x):\n",
    "    # 주어진 범위 내에 있는 값만 반환\n",
    "    return np.clip(samples, x.min(), x.max())\n",
    "\n",
    "def generate_weibull_graph(n, shape_param, scale_param, mink):\n",
    "    x = np.linspace(0.0, n - 2, n)\n",
    "    weibull_distribution = weibull(name=\"weibull_distribution\", a=0.0)\n",
    "\n",
    "    # 샘플링 후 주어진 범위 내에 있는 값만을 선택합니다.\n",
    "    samples = sample_within_range(weibull_distribution.rvs(size=n, scale_param=scale_param, shape_param=shape_param), x)\n",
    "    degrees = [int(element)+mink for element in samples]\n",
    "    while not nx.is_graphical(degrees):\n",
    "        samples = sample_within_range(\n",
    "            weibull_distribution.rvs(size=n, scale_param=scale_param, shape_param=shape_param), x)\n",
    "        degrees = [int(element)+mink for element in samples]\n",
    "    degrees = list(degrees)\n",
    "    G = nx.random_degree_sequence_graph(degrees, tries=100000)\n",
    "\n",
    "    for (u, v, w) in G.edges(data=True):\n",
    "        w['weight'] = random.randint(1, 10)\n",
    "\n",
    "    return G"
   ],
   "metadata": {
    "collapsed": false,
    "ExecuteTime": {
     "end_time": "2024-05-01T08:38:13.798759Z",
     "start_time": "2024-05-01T08:38:13.789775Z"
    }
   },
   "id": "a2fb63120c95890c",
   "execution_count": 9
  },
  {
   "cell_type": "code",
   "outputs": [],
   "source": [
    "def distance_matrix_generator(num_cities, k, p):\n",
    "    \"\"\"\n",
    "    Generate distance matrices that meets the given conditions\n",
    "    :param num_cities: number of nodes in the graph\n",
    "    :param average_k:\n",
    "    :return: distance matrices and optimizing results of concorde solver\n",
    "    \"\"\"\n",
    "    # mat[rewiring probabilities][trials]\n",
    "    dist_matrix = []\n",
    "    con_opt_result = []\n",
    "    # Make 100 dataset\n",
    "    while len(dist_matrix) < 10:\n",
    "        # Generate graph satisfying constraints\n",
    "        const = False\n",
    "        while not const:\n",
    "            const = False\n",
    "            G = nx.connected_watts_strogatz_graph(num_cities, k, p)\n",
    "            for (u, v, w) in G.edges(data=True):\n",
    "                w['weight'] = random.randint(1, 10)\n",
    "            distance_matrix = graph_to_distance_matrix(G)\n",
    "            con_result = list(concorde_TSP_solver(distance_matrix.tolist()))[0]\n",
    "            print(con_result)\n",
    "            if con_result < num_cities * 10:\n",
    "                const = True\n",
    "        dist_matrix.append(distance_matrix.tolist())\n",
    "        con_opt_result.append(con_result)\n",
    "\n",
    "\n",
    "    return dist_matrix, con_opt_result"
   ],
   "metadata": {
    "collapsed": false,
    "ExecuteTime": {
     "end_time": "2024-05-01T08:38:14.202189Z",
     "start_time": "2024-05-01T08:38:14.196353Z"
    }
   },
   "id": "3af435946c6b7b97",
   "execution_count": 10
  },
  {
   "cell_type": "code",
   "outputs": [],
   "source": [
    "def generate_watts_dataset(n, k):\n",
    "    \"\"\"\n",
    "    solve TSP\n",
    "    :param n: problem size of TSP\n",
    "    :param k: average_k\n",
    "    :return:\n",
    "    \"\"\"\n",
    "    con_list = []\n",
    "    lk_list = []\n",
    "    mat_list = []\n",
    "    for p in [1, 0.1, 0.01, 0.001, 0.0001]:\n",
    "        # generate graphs\n",
    "        distance_matrix, con_result = distance_matrix_generator(n, k, p)\n",
    "\n",
    "        lk_result = []\n",
    "        for i in range(len(distance_matrix)):\n",
    "            lk_res = []\n",
    "            for iter in range(100):\n",
    "                lk_opt, lk_distance = solve_tsp_lin_kernighan(np.array(distance_matrix[i]))\n",
    "                lk_res.append(lk_distance)\n",
    "            lk_result.append(lk_res)\n",
    "        con_list.append(con_result)\n",
    "        lk_list.append(lk_result)\n",
    "        mat_list.append(distance_matrix)\n",
    "    \n",
    "    dataset = {'con_result': con_list, 'lk_result': lk_list, 'distance_matrix': mat_list}\n",
    "    \n",
    "    file_path = os.getcwd()\n",
    "    \n",
    "    file_name = f'watts_n{n}_k{k}'\n",
    "    with open(f'{file_path}/dataset/TSP_dataset_{file_name}.json', 'w') as file:\n",
    "        json.dump(dataset, file)"
   ],
   "metadata": {
    "collapsed": false,
    "ExecuteTime": {
     "end_time": "2024-05-01T08:38:15.715038Z",
     "start_time": "2024-05-01T08:38:15.708781Z"
    }
   },
   "id": "f723be821c3693fa",
   "execution_count": 11
  },
  {
   "cell_type": "code",
   "outputs": [],
   "source": [
    "def regular_matrix_generator(num_cities, k):\n",
    "    \"\"\"\n",
    "    Generate distance matrices that meets the given conditions\n",
    "    :param num_cities: number of nodes in the graph\n",
    "    :param average_k:\n",
    "    :return: distance matrices and optimizing results of concorde solver\n",
    "    \"\"\"\n",
    "    # mat[rewiring probabilities][trials]\n",
    "    dist_matrix = []\n",
    "    con_opt_result = []\n",
    "    # Make 100 dataset\n",
    "    while len(dist_matrix) < 100:\n",
    "        # Generate graph satisfying constraints\n",
    "        const = False\n",
    "        while not const:\n",
    "            const = False\n",
    "            G = nx.random_regular_graph(k, num_cities)\n",
    "            for (u, v, w) in G.edges(data=True):\n",
    "                w['weight'] = random.randint(1, 10)\n",
    "            distance_matrix = graph_to_distance_matrix(G)\n",
    "            con_result = list(concorde_TSP_solver(distance_matrix.tolist()))[0]\n",
    "            print(con_result)\n",
    "            if con_result < num_cities * 10:\n",
    "                const = True\n",
    "        dist_matrix.append(distance_matrix.tolist())\n",
    "        con_opt_result.append(con_result)\n",
    "\n",
    "\n",
    "    return dist_matrix, con_opt_result"
   ],
   "metadata": {
    "collapsed": false,
    "ExecuteTime": {
     "end_time": "2024-05-01T08:38:15.982265Z",
     "start_time": "2024-05-01T08:38:15.974386Z"
    }
   },
   "id": "5af5d2d506d1ed1f",
   "execution_count": 12
  },
  {
   "cell_type": "code",
   "outputs": [],
   "source": [
    "def generate_regular_dataset(n, k):\n",
    "    \"\"\"\n",
    "    solve TSP\n",
    "    :param n: problem size of TSP\n",
    "    :param k: average_k\n",
    "    :return:\n",
    "    \"\"\"\n",
    "    con_list = []\n",
    "    lk_list = []\n",
    "    mat_list = []\n",
    "    for p in [1]:\n",
    "        # generate graphs\n",
    "        distance_matrix, con_result = regular_matrix_generator(n, k)\n",
    "\n",
    "        lk_result = []\n",
    "        for i in range(len(distance_matrix)):\n",
    "            lk_res = []\n",
    "            for iter in range(100):\n",
    "                lk_opt, lk_distance = solve_tsp_lin_kernighan(np.array(distance_matrix[i]))\n",
    "                lk_res.append(lk_distance)\n",
    "            lk_result.append(lk_res)\n",
    "        con_list.append(con_result)\n",
    "        lk_list.append(lk_result)\n",
    "        mat_list.append(distance_matrix)\n",
    "    \n",
    "    dataset = {'con_result': con_list, 'lk_result': lk_list, 'distance_matrix': mat_list}\n",
    "    \n",
    "    file_path = os.getcwd()\n",
    "    \n",
    "    file_name = f'regular_n{n}_k{k}'\n",
    "    with open(f'{file_path}/dataset/TSP_dataset_{file_name}.json', 'w') as file:\n",
    "        json.dump(dataset, file)"
   ],
   "metadata": {
    "collapsed": false,
    "ExecuteTime": {
     "end_time": "2024-05-01T08:38:16.368204Z",
     "start_time": "2024-05-01T08:38:16.361994Z"
    }
   },
   "id": "67886fc12edd0243",
   "execution_count": 13
  },
  {
   "cell_type": "code",
   "outputs": [],
   "source": [
    "def planer_matrix_generator(n):\n",
    "    \"\"\"\n",
    "    Generate distance matrices that meets the given conditions\n",
    "    :param num_cities: number of nodes in the graph\n",
    "    :param average_k:\n",
    "    :return: distance matrices and optimizing results of concorde solver\n",
    "    \"\"\"\n",
    "    # mat[rewiring probabilities][trials]\n",
    "    dist_matrix = []\n",
    "    con_opt_result = []\n",
    "    # Make 100 dataset\n",
    "    while len(dist_matrix) < 10:\n",
    "        # Generate graph satisfying constraints\n",
    "        const = False\n",
    "        while not const:\n",
    "            const = False\n",
    "            G = nx.dorogovtsev_goltsev_mendes_graph(n)\n",
    "            for (u, v, w) in G.edges(data=True):\n",
    "                w['weight'] = random.randint(1, 10)\n",
    "            distance_matrix = graph_to_distance_matrix(G)\n",
    "            con_result = list(concorde_TSP_solver(distance_matrix.tolist()))[0]\n",
    "            print(con_result)\n",
    "            if con_result < 3*(3**n+1)/2 * 10:\n",
    "                const = True\n",
    "        dist_matrix.append(distance_matrix.tolist())\n",
    "        con_opt_result.append(con_result)\n",
    "\n",
    "\n",
    "    return dist_matrix, con_opt_result"
   ],
   "metadata": {
    "collapsed": false,
    "ExecuteTime": {
     "end_time": "2024-05-01T08:38:16.824053Z",
     "start_time": "2024-05-01T08:38:16.818531Z"
    }
   },
   "id": "e01e201a3541db0e",
   "execution_count": 14
  },
  {
   "cell_type": "code",
   "outputs": [],
   "source": [
    "def generate_planar_dataset(n):\n",
    "    \"\"\"\n",
    "    solve TSP\n",
    "    :param n: problem size of TSP\n",
    "    :param k: average_k\n",
    "    :return:\n",
    "    \"\"\"\n",
    "    con_list = []\n",
    "    lk_list = []\n",
    "    mat_list = []\n",
    "    for p in [1]:\n",
    "        # generate graphs\n",
    "        distance_matrix, con_result = planer_matrix_generator(n)\n",
    "\n",
    "        lk_result = []\n",
    "        for i in range(len(distance_matrix)):\n",
    "            lk_res = []\n",
    "            for iter in range(100):\n",
    "                lk_opt, lk_distance = solve_tsp_lin_kernighan(np.array(distance_matrix[i]))\n",
    "                lk_res.append(lk_distance)\n",
    "            lk_result.append(lk_res)\n",
    "        con_list.append(con_result)\n",
    "        lk_list.append(lk_result)\n",
    "        mat_list.append(distance_matrix)\n",
    "    \n",
    "    dataset = {'con_result': con_list, 'lk_result': lk_list, 'distance_matrix': mat_list}\n",
    "    \n",
    "    file_path = os.getcwd()\n",
    "    file_name = f'planar_n{n}'\n",
    "    with open(f'{file_path}/dataset/TSP_dataset_{file_name}.json', 'w') as file:\n",
    "        json.dump(dataset, file)"
   ],
   "metadata": {
    "collapsed": false,
    "ExecuteTime": {
     "end_time": "2024-05-01T08:38:17.272081Z",
     "start_time": "2024-05-01T08:38:17.266521Z"
    }
   },
   "id": "17943b34f772bc28",
   "execution_count": 15
  },
  {
   "cell_type": "code",
   "outputs": [],
   "source": [
    "def graph_random_update(mat, con, n):\n",
    "    nodes = list(range(n))\n",
    "    distance_matrix = []\n",
    "    con_result = []\n",
    "    for p in [1, 0.1, 0.01]:\n",
    "        mat_p = []\n",
    "        con_p = []\n",
    "        for i in range(len(mat)):\n",
    "            mat_G = np.array(mat[i])\n",
    "            mat_G[mat_G == n * 10] = 0\n",
    "            G = nx.Graph(mat_G)\n",
    "            const = False\n",
    "            while not const:\n",
    "                for j in range(1, k // 2 + 1):  # outer loop is neighbors\n",
    "                    # inner loop in node order\n",
    "                    edges = G.edges()\n",
    "                    for edge in edges:\n",
    "                        u, v = edge\n",
    "                        if random.random() < p:\n",
    "                            w = random.choice(nodes)\n",
    "                            # Enforce no self-loops or multiple edges\n",
    "                            while w == u or G.has_edge(u, w):\n",
    "                                w = random.choice(nodes)\n",
    "                                if G.degree(u) >= n - 1:\n",
    "                                    break  # skip this rewiring\n",
    "                            if np.abs(u-v) != 1 and np.abs(u-v) != n-1:\n",
    "                                G.remove_edge(u, v)\n",
    "                                G.add_edge(u, w)\n",
    "                                \n",
    "                for (u, v, w) in G.edges(data=True):\n",
    "                    w['weight'] = random.randint(1, 10)\n",
    "                mat_a = graph_to_distance_matrix(G)\n",
    "                con_res = list(concorde_TSP_solver(mat_a.tolist()))[0]\n",
    "                print(con_res)\n",
    "                if con_res < n * 10:\n",
    "                    const = True\n",
    "            mat_p.append(mat_a.tolist())\n",
    "            con_p.append(con_res)\n",
    "        distance_matrix.append(mat_p)\n",
    "        con_result.append(con_p)\n",
    "    distance_matrix.append(mat)\n",
    "    con_result.append(con)\n",
    "    \n",
    "    return distance_matrix, con_result"
   ],
   "metadata": {
    "collapsed": false,
    "ExecuteTime": {
     "end_time": "2024-05-01T08:38:17.730013Z",
     "start_time": "2024-05-01T08:38:17.720792Z"
    }
   },
   "id": "71fdd0c3ae8e1c00",
   "execution_count": 16
  },
  {
   "cell_type": "code",
   "outputs": [],
   "source": [
    "def plot_degree_distribution(G):\n",
    "    \"\"\"\n",
    "    Plots the degree distribution of the graph as a histogram.\n",
    "    \n",
    "    Parameters:\n",
    "        G (networkx.Graph): The graph whose degree distribution is to be plotted.\n",
    "    \"\"\"\n",
    "    # Get the degrees of all nodes\n",
    "    degrees = [deg for node, deg in G.degree()]\n",
    "    \n",
    "    # Plot the degree distribution\n",
    "    plt.figure(figsize=(8, 4))\n",
    "    plt.hist(degrees, bins=range(min(degrees), max(degrees) + 2), alpha=0.75, color='green', edgecolor='black')\n",
    "    plt.title(\"Degree Distribution\")\n",
    "    plt.xlabel(\"Degree\")\n",
    "    plt.ylabel(\"Number of Nodes\")\n",
    "    plt.xticks(range(min(degrees), max(degrees) + 1))\n",
    "    plt.grid(True, linestyle='--', linewidth=0.5)\n",
    "    plt.show()"
   ],
   "metadata": {
    "collapsed": false,
    "ExecuteTime": {
     "end_time": "2024-05-01T08:38:18.366001Z",
     "start_time": "2024-05-01T08:38:18.359783Z"
    }
   },
   "id": "68965a206f4b4669",
   "execution_count": 17
  },
  {
   "cell_type": "code",
   "outputs": [],
   "source": [
    "def count_occurrences(lst, k):\n",
    "    \"\"\"\n",
    "    리스트에서 특정 숫자 k의 출현 횟수를 세는 함수\n",
    "\n",
    "    Args:\n",
    "    - lst (list): 숫자들이 담긴 리스트\n",
    "    - k (int): 출현 횟수를 세고자 하는 숫자\n",
    "\n",
    "    Returns:\n",
    "    - count (int): k의 출현 횟수\n",
    "    \"\"\"\n",
    "    count = 0\n",
    "    for num in lst:\n",
    "        if num == k:\n",
    "            count += 1\n",
    "    return count"
   ],
   "metadata": {
    "collapsed": false,
    "ExecuteTime": {
     "end_time": "2024-05-01T08:38:19.182924Z",
     "start_time": "2024-05-01T08:38:19.178392Z"
    }
   },
   "id": "ca9a2918117b1a15",
   "execution_count": 18
  },
  {
   "cell_type": "code",
   "outputs": [],
   "source": [
    "def power_law_graph(n, k_min, alpha=1, k_max=None):\n",
    "    if k_max == None:\n",
    "        k_max = int(n/2)\n",
    "    \n",
    "    pmf = np.zeros(k_max - k_min + 1)\n",
    "    for i in range(len(pmf)):\n",
    "        pmf[i] = 1/((i+1)**alpha)\n",
    "    pmf = pmf/np.sum(pmf)\n",
    "    \n",
    "    degree_distribution = np.zeros(len(pmf))\n",
    "    for j in range(n):\n",
    "        # Initialize cumulative probability\n",
    "        cumulative_prob = 0\n",
    "        rand_num = np.random.rand()\n",
    "    \n",
    "        # Iterate over PMF values and probabilities\n",
    "        for k in range(len(pmf)):\n",
    "            cumulative_prob += pmf[k]\n",
    "            # If cumulative probability exceeds the random number, return the corresponding value\n",
    "            if rand_num <= cumulative_prob:\n",
    "                degree_distribution[k] = degree_distribution[k] + 1\n",
    "                break\n",
    "    \n",
    "    degree_distribution = np.zeros(len(pmf))\n",
    "    for i in range(len(pmf)):\n",
    "        degree_distribution[i] = int(pmf[i]*n)\n",
    "    G = nx.complete_graph(n)\n",
    "    while max(dict(G.degree()).values()) > k_max:\n",
    "        rand_edge = random.choice(list(G.edges()))\n",
    "        if np.abs(rand_edge[0]-rand_edge[1]) != 1 and np.abs(rand_edge[0]-rand_edge[1]) != n-1:\n",
    "            G.remove_edge(rand_edge[0], rand_edge[1])\n",
    "    \n",
    "    degree_distribution = list(reversed(degree_distribution))\n",
    "    for l in range(len(degree_distribution)-1):\n",
    "        num_k = degree_distribution[l]\n",
    "        kk = k_max - l\n",
    "        while count_occurrences(list(dict(G.degree()).values()), kk) > num_k:\n",
    "            nodes_remove = [node for node, degree in G.degree() if degree == kk]\n",
    "            node_to_remove1 = random.choice(nodes_remove)\n",
    "            node_to_remove2 = random.choice(list(G.neighbors(node_to_remove1)))\n",
    "            if np.abs(node_to_remove2 - node_to_remove1) != 1 and np.abs(node_to_remove2 - node_to_remove1) != n-1:\n",
    "                G.remove_edge(node_to_remove1, node_to_remove2)\n",
    "            \n",
    "    return(G)"
   ],
   "metadata": {
    "collapsed": false,
    "ExecuteTime": {
     "end_time": "2024-05-01T08:38:20.114859Z",
     "start_time": "2024-05-01T08:38:20.103745Z"
    }
   },
   "id": "ae4b3b60f42f9c6a",
   "execution_count": 19
  },
  {
   "cell_type": "code",
   "outputs": [],
   "source": [
    "g = power_law_graph(400, 2)"
   ],
   "metadata": {
    "collapsed": false,
    "ExecuteTime": {
     "end_time": "2024-05-01T08:47:51.711521Z",
     "start_time": "2024-05-01T08:38:51.108651Z"
    }
   },
   "id": "d137eca246406c3b",
   "execution_count": 20
  },
  {
   "cell_type": "code",
   "outputs": [],
   "source": [
    "def p_value_in_R(x_TSP):\n",
    "    r('library(\"poweRlaw\")')\n",
    "    \n",
    "    # convert data to R\n",
    "    r.assign('x_TSP', x_TSP)\n",
    "    r('x_TSP_re <- unlist(x_TSP)')\n",
    "    r('names(x_TSP_re) <- names(x_TSP)')\n",
    "    \n",
    "    # fitting power-law\n",
    "    r('m_pl <- displ$new(x_TSP_re)')\n",
    "    r('est <- estimate_xmin(m_pl)')\n",
    "    r('m_pl$setXmin(est)')\n",
    "    r('bs_p = bootstrap_p(m_pl)')\n",
    "    p_pl = r('bs_p$p')[0]\n",
    "    \n",
    "    '''# fitting log normal\n",
    "    r('m_ln = dislnorm$new(x_TSP_re)')\n",
    "    r('est = estimate_xmin(m_ln)')\n",
    "    r('m_ln$setXmin(est)')\n",
    "    r('bs_p = bootstrap_p(m_ln)')\n",
    "    p_ln = r('bs_p$p')[0]'''\n",
    "    \n",
    "    # fitting poisson\n",
    "    r('m_pois = dispois$new(x_TSP_re)')\n",
    "    r('est = estimate_xmin(m_pois)')\n",
    "    r('m_pois$setXmin(est)')\n",
    "    r('bs_p = bootstrap_p(m_pois)')\n",
    "    p_pois = r('bs_p$p')[0]\n",
    "    \n",
    "    \"\"\" # fitting exponential\n",
    "    r('m_exp = disexp$new(x_TSP_re)')\n",
    "    r('est = estimate_xmin(m_exp)')\n",
    "    r('m_exp$setXmin(est)')\n",
    "    r('bs_p = bootstrap_p(m_exp)')\n",
    "    p_exp = r('bs_p$p')[0]\"\"\"\n",
    "    \n",
    "    return p_pl, 0, p_pois"
   ],
   "metadata": {
    "collapsed": false,
    "ExecuteTime": {
     "end_time": "2024-05-01T08:56:06.273927Z",
     "start_time": "2024-05-01T08:56:06.267553Z"
    }
   },
   "id": "1dc66ae39c6ccd13",
   "execution_count": 27
  },
  {
   "cell_type": "code",
   "outputs": [
    {
     "data": {
      "text/plain": "<Figure size 800x400 with 1 Axes>",
      "image/png": "[encoded data removed]"
     },
     "metadata": {},
     "output_type": "display_data"
    }
   ],
   "source": [
    "plot_degree_distribution(g)"
   ],
   "metadata": {
    "collapsed": false,
    "ExecuteTime": {
     "end_time": "2024-05-01T08:54:45.917279Z",
     "start_time": "2024-05-01T08:54:45.709399Z"
    }
   },
   "id": "33a88c2727302d1e",
   "execution_count": 26
  },
  {
   "cell_type": "code",
   "outputs": [
    {
     "name": "stderr",
     "output_type": "stream",
     "text": [
      "R[write to console]: Expected total run time for 100 sims, using 1 threads is 5.7 seconds.\n",
      "\n",
      "/bin/bash: warning: setlocale: LC_ALL: cannot change locale (en_US.UTF-8)\n",
      "During startup - Warning messages:\n",
      "1: Setting LC_CTYPE failed, using \"C\" \n",
      "2: Setting LC_COLLATE failed, using \"C\" \n",
      "3: Setting LC_TIME failed, using \"C\" \n",
      "4: Setting LC_MESSAGES failed, using \"C\" \n",
      "5: Setting LC_MONETARY failed, using \"C\" \n",
      "6: Setting LC_PAPER failed, using \"C\" \n",
      "7: Setting LC_MEASUREMENT failed, using \"C\" \n",
      "R[write to console]: Expected total run time for 100 sims, using 1 threads is 1.69 seconds.\n",
      "\n",
      "/bin/bash: warning: setlocale: LC_ALL: cannot change locale (en_US.UTF-8)\n",
      "During startup - Warning messages:\n",
      "1: Setting LC_CTYPE failed, using \"C\" \n",
      "2: Setting LC_COLLATE failed, using \"C\" \n",
      "3: Setting LC_TIME failed, using \"C\" \n",
      "4: Setting LC_MESSAGES failed, using \"C\" \n",
      "5: Setting LC_MONETARY failed, using \"C\" \n",
      "6: Setting LC_PAPER failed, using \"C\" \n",
      "7: Setting LC_MEASUREMENT failed, using \"C\" \n"
     ]
    }
   ],
   "source": [
    "p_pl, p_ln, p_pois = p_value_in_R(list(dict(g.degree()).values()))"
   ],
   "metadata": {
    "collapsed": false,
    "ExecuteTime": {
     "end_time": "2024-05-01T08:56:17.514571Z",
     "start_time": "2024-05-01T08:56:09.660649Z"
    }
   },
   "id": "5551ab0299aa2377",
   "execution_count": 28
  },
  {
   "cell_type": "code",
   "outputs": [
    {
     "name": "stdout",
     "output_type": "stream",
     "text": [
      "0.97 0.48\n"
     ]
    }
   ],
   "source": [
    "print(p_pl, p_pois)"
   ],
   "metadata": {
    "collapsed": false,
    "ExecuteTime": {
     "end_time": "2024-05-01T08:56:30.580384Z",
     "start_time": "2024-05-01T08:56:30.576183Z"
    }
   },
   "id": "1d55ba70182740b7",
   "execution_count": 29
  },
  {
   "cell_type": "code",
   "outputs": [],
   "source": [
    "def power_matrix_generator(n, k, alpha, max_k):\n",
    "    \"\"\"\n",
    "    Generate distance matrices that meets the given conditions\n",
    "    :param num_cities: number of nodes in the graph\n",
    "    :param average_k:\n",
    "    :return: distance matrices and optimizing results of concorde solver\n",
    "    \"\"\"\n",
    "    # mat[rewiring probabilities][trials]\n",
    "    dist_matrix = []\n",
    "    con_opt_result = []\n",
    "    # Make 100 dataset\n",
    "    while len(dist_matrix) < 10:\n",
    "        # Generate graph satisfying constraints\n",
    "        const = False\n",
    "        while not const:\n",
    "            const = False\n",
    "            G = power_law_graph(n, k, alpha=alpha, k_max=max_k)\n",
    "            for (u, v, w) in G.edges(data=True):\n",
    "                w['weight'] = random.randint(1, 10)\n",
    "            distance_matrix = graph_to_distance_matrix(G)\n",
    "            con_result = list(concorde_TSP_solver(distance_matrix.tolist()))[0]\n",
    "            print(con_result)\n",
    "            if con_result < n * 10:\n",
    "                const = True\n",
    "        dist_matrix.append(distance_matrix.tolist())\n",
    "        con_opt_result.append(con_result)\n",
    "\n",
    "\n",
    "    return dist_matrix, con_opt_result"
   ],
   "metadata": {
    "collapsed": false,
    "ExecuteTime": {
     "end_time": "2024-04-24T02:05:51.180078Z",
     "start_time": "2024-04-24T02:05:51.174343Z"
    }
   },
   "id": "c5bbe160404af8db",
   "execution_count": 21
  },
  {
   "cell_type": "code",
   "outputs": [],
   "source": [
    "def generate_power_dataset(n, k, alpha, max_k):\n",
    "    \"\"\"\n",
    "    solve TSP\n",
    "    :param n: problem size of TSP\n",
    "    :param k: average_k\n",
    "    :return:\n",
    "    \"\"\"\n",
    "    lk_list = []\n",
    "    \n",
    "    # generate graphs\n",
    "    distance_matrix, con_result = power_matrix_generator(n, k, alpha, max_k)\n",
    "    mat_list, con_list = graph_random_update(distance_matrix, con_result, n)\n",
    "    \n",
    "    for p in range(len(mat_list)):\n",
    "        lk_result = []\n",
    "        for i in range(len(mat_list[p])):\n",
    "            lk_res = []\n",
    "            for iter in range(100):\n",
    "                lk_opt, lk_distance = solve_tsp_lin_kernighan(np.array(mat_list[p][i]))\n",
    "                lk_res.append(lk_distance)\n",
    "            lk_result.append(lk_res)\n",
    "        lk_list.append(lk_result)\n",
    "    \"\"\"lk_result = []\n",
    "    for i in range(len(distance_matrix)):\n",
    "        lk_res = []\n",
    "        for iter in range(100):\n",
    "            lk_opt, lk_distance = solve_tsp_lin_kernighan(np.array(distance_matrix[i]))\n",
    "            lk_res.append(lk_distance)\n",
    "        lk_result.append(lk_res)\"\"\"\n",
    "    \n",
    "    dataset = {'con_result': con_list, 'lk_result': lk_list, 'distance_matrix': mat_list}\n",
    "    \n",
    "    file_path = os.getcwd()\n",
    "    file_name = f'power_n{n}_k{k}'\n",
    "    with open(f'{file_path}/dataset/TSP_dataset_{file_name}.json', 'w') as file:\n",
    "        json.dump(dataset, file)"
   ],
   "metadata": {
    "collapsed": false,
    "ExecuteTime": {
     "end_time": "2024-04-24T02:05:51.934152Z",
     "start_time": "2024-04-24T02:05:51.928532Z"
    }
   },
   "id": "51445fbf7e32b5e4",
   "execution_count": 22
  },
  {
   "cell_type": "code",
   "outputs": [],
   "source": [
    "def generate_lk(dataset1):\n",
    "    \"\"\"\n",
    "    solve TSP\n",
    "    :param n: problem size of TSP\n",
    "    :param k: average_k\n",
    "    :return:\n",
    "    \"\"\"\n",
    "    lk_list = []\n",
    "    \n",
    "    # generate graphs\n",
    "    mat_list = dataset1['distance_matrix']\n",
    "    con_list = dataset1['con_result']\n",
    "    \n",
    "    for p in range(len(mat_list)):\n",
    "        lk_result = []\n",
    "        for i in range(len(mat_list[p])):\n",
    "            lk_res = []\n",
    "            for iter in range(100):\n",
    "                lk_opt, lk_distance = solve_tsp_lin_kernighan(np.array(mat_list[p][i]))\n",
    "                lk_res.append(lk_distance)\n",
    "            lk_result.append(lk_res)\n",
    "        lk_list.append(lk_result)\n",
    "    \"\"\"lk_result = []\n",
    "    for i in range(len(distance_matrix)):\n",
    "        lk_res = []\n",
    "        for iter in range(100):\n",
    "            lk_opt, lk_distance = solve_tsp_lin_kernighan(np.array(distance_matrix[i]))\n",
    "            lk_res.append(lk_distance)\n",
    "        lk_result.append(lk_res)\"\"\"\n",
    "    \n",
    "    dataset = {'con_result': con_list, 'lk_result': lk_list, 'distance_matrix': mat_list}\n",
    "    \n",
    "    file_path = os.getcwd()\n",
    "    file_name = f'power_n{n}_k{k}'\n",
    "    with open(f'{file_path}/dataset/TSP_dataset_{file_name}_1.json', 'w') as file:\n",
    "        json.dump(dataset, file)"
   ],
   "metadata": {
    "collapsed": false,
    "ExecuteTime": {
     "end_time": "2024-04-24T02:05:52.782596Z",
     "start_time": "2024-04-24T02:05:52.776806Z"
    }
   },
   "id": "99c9a4afffb42c92",
   "execution_count": 23
  },
  {
   "cell_type": "code",
   "outputs": [],
   "source": [
    "for n in range(2, 6):\n",
    "    for nn in range(1, 10):\n",
    "        for k in [5, 7]:\n",
    "            generate_watts_dataset(n*10+nn, k)\n",
    "            clear_output()"
   ],
   "metadata": {
    "collapsed": false
   },
   "id": "6919a89b5949772d",
   "execution_count": 147
  },
  {
   "cell_type": "code",
   "outputs": [],
   "source": [
    "for n in [100, 200, 400]:\n",
    "    for k in [4, 5, 6, 7]:\n",
    "        generate_watts_dataset(n, k)\n",
    "        clear_output()"
   ],
   "metadata": {
    "collapsed": false
   },
   "id": "28d52ce439415880",
   "execution_count": 24
  },
  {
   "cell_type": "code",
   "outputs": [],
   "source": [
    "for n in [40]:\n",
    "    for k in [6, 8, 10, 12, 14, 18, 20]:\n",
    "        generate_watts_dataset(n, k)\n",
    "        clear_output()"
   ],
   "metadata": {
    "collapsed": false
   },
   "id": "36586140f011149a",
   "execution_count": 19
  },
  {
   "cell_type": "code",
   "outputs": [],
   "source": [
    "for n in [60]:\n",
    "    for k in [6, 8, 10, 12, 14, 16, 18, 20]:\n",
    "        generate_watts_dataset(n, k)\n",
    "        clear_output()"
   ],
   "metadata": {
    "collapsed": false
   },
   "id": "487ba1f7a4d6cb0f",
   "execution_count": 21
  },
  {
   "cell_type": "code",
   "outputs": [],
   "source": [
    "for n in [20, 40, 60]:\n",
    "    for k in [4, 6]:\n",
    "        generate_regular_dataset(n, k)\n",
    "        clear_output()\n",
    "    for k5 in [2, 3, 4]:\n",
    "        generate_regular_dataset(n, int(n*k5/5))\n",
    "        clear_output()"
   ],
   "metadata": {
    "collapsed": false
   },
   "id": "3580d128efbb5a72",
   "execution_count": 20
  },
  {
   "cell_type": "code",
   "outputs": [],
   "source": [
    "file_path = os.getcwd()"
   ],
   "metadata": {
    "collapsed": false,
    "ExecuteTime": {
     "end_time": "2024-04-22T05:29:33.767291Z",
     "start_time": "2024-04-22T05:29:33.761899Z"
    }
   },
   "id": "7450e7795a8baa9a",
   "execution_count": 107
  },
  {
   "cell_type": "code",
   "outputs": [],
   "source": [
    "for n, k, alpha in [(20, 4, 1.5), (20, 6, 1.5), (40, 4, 2), (40, 8, 1.9), (40, 12, 1.9), (60, 4, 2.3), (60, 12, 2), (60, 18, 2)]:\n",
    "    file_name = f'{file_path}/dataset/TSP_dataset_power_n{n}_k{k}.json'\n",
    "    with open(file_name, 'r') as file:\n",
    "        dataset = json.load(file)\n",
    "    generate_lk(dataset)\n",
    "    clear_output()"
   ],
   "metadata": {
    "collapsed": false
   },
   "id": "54faaa0b95bf9584",
   "execution_count": 108
  },
  {
   "cell_type": "code",
   "outputs": [],
   "source": [
    "for n, k, alpha in [(20, 3, 1.5), (20, 5, 1.5), (40, 3, 2), (40, 5, 2), (40, 6, 2), (60, 3, 2), (60, 5, 2), (60, 6, 2)]:\n",
    "    generate_power_dataset(n, k, alpha, n-1)\n",
    "    clear_output()"
   ],
   "metadata": {
    "collapsed": false
   },
   "id": "cac776bf363bcb71",
   "execution_count": 141
  },
  {
   "cell_type": "code",
   "outputs": [],
   "source": [
    "for n in range(20, 61):\n",
    "    for k in [3, 4, 5, 6]:\n",
    "        generate_power_dataset(n, k, 1.5, n-1)\n",
    "        clear_output()"
   ],
   "metadata": {
    "collapsed": false
   },
   "id": "eff4db37f9e8f72f",
   "execution_count": 142
  },
  {
   "cell_type": "code",
   "outputs": [
    {
     "data": {
      "text/plain": "6.0"
     },
     "execution_count": 145,
     "metadata": {},
     "output_type": "execute_result"
    }
   ],
   "source": [
    "g = nx.connected_watts_strogatz_graph(20, 3, 1)\n",
    "average_degree(g)"
   ],
   "metadata": {
    "collapsed": false,
    "ExecuteTime": {
     "end_time": "2024-04-22T12:27:41.052167Z",
     "start_time": "2024-04-22T12:27:41.045792Z"
    }
   },
   "id": "dc886327c4d074b1",
   "execution_count": 145
  },
  {
   "cell_type": "code",
   "outputs": [],
   "source": [
    "\"\"\"nn = [5]\n",
    "for n in nn:\n",
    "    generate_planar_dataset(n)\"\"\"\n",
    "\"\"\"unable solve TSP\"\"\""
   ],
   "metadata": {
    "collapsed": false
   },
   "id": "c56fe728360f18b9",
   "execution_count": null
  },
  {
   "cell_type": "code",
   "outputs": [],
   "source": [],
   "metadata": {
    "collapsed": false
   },
   "id": "f5030246d9f8fe32"
  }
 ],
 "metadata": {
  "kernelspec": {
   "display_name": "Python 3",
   "language": "python",
   "name": "python3"
  },
  "language_info": {
   "codemirror_mode": {
    "name": "ipython",
    "version": 2
   },
   "file_extension": ".py",
   "mimetype": "text/x-python",
   "name": "python",
   "nbconvert_exporter": "python",
   "pygments_lexer": "ipython2",
   "version": "2.7.6"
  }
 },
 "nbformat": 4,
 "nbformat_minor": 5
}
