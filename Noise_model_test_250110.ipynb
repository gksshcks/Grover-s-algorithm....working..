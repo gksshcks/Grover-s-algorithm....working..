{
 "cells": [
  {
   "cell_type": "code",
   "execution_count": 1,
   "id": "initial_id",
   "metadata": {
    "collapsed": true,
    "ExecuteTime": {
     "end_time": "2025-01-03T10:55:54.568447Z",
     "start_time": "2025-01-03T10:55:52.551674Z"
    }
   },
   "outputs": [],
   "source": [
    "import qiskit\n",
    "import numpy as np\n",
    "import random\n",
    "import matplotlib.pyplot as plt\n",
    "import json\n",
    "from qiskit import transpile\n",
    "from qiskit_aer import AerSimulator\n",
    "from qiskit.circuit.library import XGate, ZGate\n",
    "from qiskit import QuantumCircuit\n",
    "from qiskit_aer.noise import (\n",
    "    NoiseModel,\n",
    "    depolarizing_error,\n",
    "    pauli_error,\n",
    "    thermal_relaxation_error,\n",
    "    phase_damping_error,\n",
    "    ReadoutError,\n",
    "    RelaxationNoisePass\n",
    ")\n",
    "from qiskit_ibm_runtime import QiskitRuntimeService"
   ]
  },
  {
   "cell_type": "code",
   "outputs": [],
   "source": [
    "# Save and load your IBM Quantum account credentials\n",
    "'''QiskitRuntimeService.save_account(token='2fdf9a0789b4a59bc40442c862e78c1bc79eea8668e6fd2fbcf8218db84742b0d2e16f9f21d6ee4ec0a187493e52637555e892bc7e5184b787d84e844bff7ba2', channel='ibm_quantum', overwrite=True)'''\n",
    "service = QiskitRuntimeService()"
   ],
   "metadata": {
    "collapsed": false,
    "ExecuteTime": {
     "end_time": "2025-01-03T10:56:03.978745Z",
     "start_time": "2025-01-03T10:55:54.569607Z"
    }
   },
   "id": "a81ef03a7d7fb67f",
   "execution_count": 2
  },
  {
   "cell_type": "code",
   "outputs": [],
   "source": [
    "backend = service.backend('ibm_fez')"
   ],
   "metadata": {
    "collapsed": false,
    "ExecuteTime": {
     "end_time": "2025-01-03T10:56:05.928712Z",
     "start_time": "2025-01-03T10:56:03.982303Z"
    }
   },
   "id": "fa87aaa87cdb95cd",
   "execution_count": 3
  },
  {
   "cell_type": "code",
   "outputs": [],
   "source": [
    "backend_prop = backend.properties().__dict__"
   ],
   "metadata": {
    "collapsed": false,
    "ExecuteTime": {
     "end_time": "2025-01-03T10:56:08.732629Z",
     "start_time": "2025-01-03T10:56:05.930945Z"
    }
   },
   "id": "bbe53aeb11a42f87",
   "execution_count": 4
  },
  {
   "cell_type": "code",
   "outputs": [],
   "source": [
    "gate_props = backend_prop[\"_gates\"]\n",
    "gate_error_list = []\n",
    "for gate_type in gate_props.keys():\n",
    "    gate_qubits = list(gate_props[gate_type].keys())\n",
    "    for q in gate_qubits:\n",
    "        gate_error = gate_props[gate_type][q].get('gate_error', (0,0))[0]\n",
    "        gate_error_list.append((gate_type, q, gate_error))\n",
    "gate_error_list"
   ],
   "metadata": {
    "collapsed": false
   },
   "id": "e3ab36c5bfcf1dd0",
   "execution_count": null
  },
  {
   "cell_type": "code",
   "outputs": [],
   "source": [
    "noise_model = NoiseModel()\n",
    "for val in gate_error_list:\n",
    "    gate, qubits, error = val\n",
    "    dep_error = depolarizing_error(error, len(qubits) )\n",
    "    noise_model.add_quantum_error(dep_error, [gate], qubits)\n",
    "print(noise_model)"
   ],
   "metadata": {
    "collapsed": false
   },
   "id": "7f507c527a659b4f",
   "execution_count": null
  },
  {
   "cell_type": "code",
   "outputs": [],
   "source": [
    "qubit_props = backend_prop[\"_qubits\"]\n",
    "qubit_error_list = []\n",
    "for qubit in qubit_props.keys():\n",
    "    t1 = qubit_props[qubit]['T1'][0]\n",
    "    t2 = qubit_props[qubit]['T2'][0]\n",
    "    qubit_error_list.append((qubit, t1, t2))\n",
    "qubit_error_list"
   ],
   "metadata": {
    "collapsed": false
   },
   "id": "d23eba5c456afe12",
   "execution_count": null
  },
  {
   "cell_type": "code",
   "outputs": [],
   "source": [
    "l1 = 1\n",
    "l2 = 1\n",
    "t1s =[(1/l1)*x[1] for x in qubit_error_list]\n",
    "t2s =[(1/l2)*x[2] for x in qubit_error_list]"
   ],
   "metadata": {
    "collapsed": false,
    "ExecuteTime": {
     "end_time": "2025-01-03T10:56:11.345237Z",
     "start_time": "2025-01-03T10:56:11.338638Z"
    }
   },
   "id": "ad033b51ac2a8a52",
   "execution_count": 8
  },
  {
   "cell_type": "code",
   "outputs": [],
   "source": [
    "delay_pass = RelaxationNoisePass(t1s, t2s, dt=1e-9, op_types=[qiskit.circuit.Delay])"
   ],
   "metadata": {
    "collapsed": false,
    "ExecuteTime": {
     "end_time": "2025-01-03T10:56:11.351844Z",
     "start_time": "2025-01-03T10:56:11.346432Z"
    }
   },
   "id": "67eb6d804756a291",
   "execution_count": 9
  },
  {
   "cell_type": "code",
   "outputs": [],
   "source": [
    "shots = 10000\n",
    "ideal_simulator = AerSimulator(method='matrix_product_state')\n",
    "ideal_simulator.set_options(shots=shots)\n",
    "backend_sim = AerSimulator(method='matrix_product_state',\n",
    "                        noise_model=noise_model)\n",
    "backend_sim.set_options(shots=shots)\n",
    "basis_gates = ['cz', 'id', 'x', 'sx', 'rz']"
   ],
   "metadata": {
    "collapsed": false,
    "ExecuteTime": {
     "end_time": "2025-01-03T10:56:11.359618Z",
     "start_time": "2025-01-03T10:56:11.352907Z"
    }
   },
   "id": "16ebbcf3d012d8a9",
   "execution_count": 10
  },
  {
   "cell_type": "code",
   "outputs": [],
   "source": [
    "def initialize_superposition_from_bitstrings(bitstrings):\n",
    "    n_qubits = len(bitstrings[0])\n",
    "    qc = QuantumCircuit(n_qubits)\n",
    "\n",
    "    # 중첩 상태에 들어갈 각 상태에 대한 진폭 계산\n",
    "    state = np.zeros(2**n_qubits, dtype=complex)\n",
    "    \n",
    "    # 각 비트열을 2진수에서 정수로 변환하여 해당 상태에 진폭 할당\n",
    "    for bitstring in bitstrings:\n",
    "        index = int(bitstring, 2)  # 비트열을 정수로 변환\n",
    "        state[index] = 1  # 각 상태에 진폭을 1로 설정 (동등한 중첩)\n",
    "\n",
    "    # 진폭들의 노름이 1이 되도록 정규화\n",
    "    state /= np.linalg.norm(state)\n",
    "\n",
    "    # 계산된 중첩 상태로 큐비트 초기화\n",
    "    qc.initialize(state)\n",
    "    tqc = transpile(qc, basis_gates=basis_gates, optimization_level=3)\n",
    "    new_qc = QuantumCircuit(n_qubits)\n",
    "    for gate in tqc:\n",
    "        if gate.operation.name == 'reset':\n",
    "            continue\n",
    "        new_qc.append(gate)\n",
    "\n",
    "    return new_qc\n",
    "\n",
    "def find_always_zero_qubits(bitstrings):\n",
    "    if not bitstrings:\n",
    "        return []\n",
    "\n",
    "    num_qubits = len(bitstrings[0])  # 비트스트링의 길이(큐빗 수)\n",
    "    always_zero_qubits = []\n",
    "\n",
    "    for i in range(num_qubits):\n",
    "        # i번째 위치의 큐빗이 항상 0인지 확인\n",
    "        if all(bitstring[num_qubits-1-i] == '0' for bitstring in bitstrings):\n",
    "            always_zero_qubits.append(i)\n",
    "\n",
    "    return always_zero_qubits\n",
    "\n",
    "def extract_non_zero_bitstrings(psi, total_qubits):\n",
    "    bitstrings = []\n",
    "    num_states = len(psi)  # 전체 상태 벡터의 길이\n",
    "    \n",
    "    for i, amplitude in enumerate(psi):\n",
    "        if np.abs(amplitude) > 1e-10:  # 무시할 수 없는 크기의 상태만 고려 1e-12\n",
    "            binary_state = f\"{i:0{total_qubits}b}\"\n",
    "            bitstrings.append(binary_state)\n",
    "    \n",
    "    return bitstrings\n",
    "\n",
    "def err_grover(n, search_bs, targ_bs):\n",
    "    if len(search_bs) == 2**n:\n",
    "        qc_init = QuantumCircuit(n)\n",
    "        for i in range(n):\n",
    "            qc_init.h(i)\n",
    "    else:\n",
    "        qc_init = initialize_superposition_from_bitstrings(search_bs)\n",
    "    qc_oracle = QuantumCircuit(n+1)\n",
    "    for tbs in targ_bs:\n",
    "        qc_oracle.append(XGate().control(n, ctrl_state=tbs), range(n+1))\n",
    "    \n",
    "    qc = QuantumCircuit(n+1, n)\n",
    "    qc.compose(qc_init, inplace=True)\n",
    "    qc.x(n)\n",
    "    qc.h(n)\n",
    "    \n",
    "    qc.compose(qc_oracle, inplace=True)\n",
    "    \n",
    "    qc.compose(qc_init.inverse(), inplace=True)\n",
    "    #qc.save_statevector(f'psi')\n",
    "    tqc = transpile(qc, basis_gates=basis_gates, optimization_level=3)\n",
    "    for i in range(n):\n",
    "        tqc.measure(i, i)\n",
    "    # Run simulator\n",
    "    result = backend_sim.run(tqc).result()\n",
    "    counts = result.get_counts(0)\n",
    "    #print(counts)\n",
    "    \n",
    "    #psi = np.array(result.data()[f'psi'])\n",
    "    #total_qubits = n+1\n",
    "    #bitstrings_psi = extract_non_zero_bitstrings(psi, total_qubits)\n",
    "    bitstring_reduce = {}\n",
    "    max_count = np.max(list(counts.values()))\n",
    "    for key, count in counts.items():\n",
    "        if count > max_count/10:\n",
    "            bitstring_reduce[key] = count\n",
    "    #print(bitstring_reduce)\n",
    "    \n",
    "    always_zero = find_always_zero_qubits(list(bitstring_reduce.keys()))\n",
    "    #print(always_zero)\n",
    "    \n",
    "    for i in range(n):\n",
    "        qc.x(i)\n",
    "    \n",
    "    q_list = list(range(n))\n",
    "    #print(\"indices of zero qubits\", always_zero)\n",
    "    # Select the target qubit as the highest-indexed qubit among the remaining qubits\n",
    "    # outside of oracle range (4) excluded\n",
    "    q_list = [q for q in q_list if q not in always_zero and q < n]\n",
    "    #print(\"reduced diff\", q_list)\n",
    "    if len(q_list) > 1:\n",
    "        qc.append(ZGate().control(len(q_list)-1), q_list)\n",
    "    elif len(q_list) == 1:\n",
    "        qc.z(q_list[0])\n",
    "    \n",
    "    for i in range(n):\n",
    "        qc.x(i)\n",
    "    \n",
    "    qc.compose(qc_init, inplace=True)\n",
    "    \n",
    "    tqc = transpile(qc, basis_gates=basis_gates, optimization_level=3)\n",
    "    for i in range(n):\n",
    "        tqc.measure(i, i)\n",
    "    # Run simulator\n",
    "    iresult = ideal_simulator.run(tqc).result()\n",
    "    icounts = iresult.get_counts(0)\n",
    "    \n",
    "    # Run simulator\n",
    "    result = backend_sim.run(tqc).result()\n",
    "    err = 0\n",
    "    counts = result.get_counts(0)\n",
    "    for key, count in counts.items():\n",
    "        if key in icounts.keys():\n",
    "            if icounts[key] > counts[key]:\n",
    "                err += icounts[key]-counts[key]\n",
    "    err_rate = err/shots\n",
    "    print(f'    ideal searched state is[{max(icounts, key=icounts.get)}]')\n",
    "    print(f'    noised searched state is[{max(counts, key=counts.get)}]')\n",
    "    \n",
    "    '''unitary = qi.Operator(qc_init).data\n",
    "    abs_unitary = np.abs(unitary)'''\n",
    "    '''abs_unitary = get_unitary_with_abs(qc_init)\n",
    "    eigenvalues = np.linalg.eigvals(abs_unitary)'''\n",
    "    \n",
    "    return len(always_zero), err_rate, icounts, counts, qc_init, tqc"
   ],
   "metadata": {
    "collapsed": false,
    "ExecuteTime": {
     "end_time": "2025-01-03T10:56:11.379411Z",
     "start_time": "2025-01-03T10:56:11.360769Z"
    }
   },
   "id": "97827a04cf07465f",
   "execution_count": 11
  },
  {
   "cell_type": "code",
   "outputs": [],
   "source": [
    "num_search_list = []\n",
    "num_targ_list = []\n",
    "num_bitstring = []\n",
    "err_list = []\n",
    "reduced_list = []\n",
    "ratio_search = []\n",
    "init_qc = []\n",
    "tqc = []\n",
    "for n in range(5, 7):\n",
    "    bitstrings = [f\"{i:0{n}b}\" for i in range(2**n)]\n",
    "    for num_targ in range(1, 3):\n",
    "        for num_search in range(num_targ*2+1, 4*n):\n",
    "            bs_search = random.sample(bitstrings, num_search)\n",
    "            err_list_iter = []\n",
    "            reduced_list_iter = []\n",
    "            for iter in range(30):\n",
    "                res = err_grover(n, bs_search, random.sample(bs_search, num_targ))\n",
    "                err_list.append(res[1])\n",
    "                reduced_list.append(res[0])\n",
    "                num_search_list.append(num_search)\n",
    "                num_targ_list.append(num_targ)\n",
    "                num_bitstring.append(2**n)\n",
    "                ratio_search.append(num_search/2**n)\n",
    "                init_qc.append(res[4])\n",
    "                tqc.append(res[5])"
   ],
   "metadata": {
    "collapsed": false
   },
   "id": "b288f98f3233d02f",
   "execution_count": null
  },
  {
   "cell_type": "code",
   "outputs": [],
   "source": [
    "result = {'ratio_search': ratio_search, 'reduced_list': reduced_list, 'err_list': err_list, 'num_search_list': num_search_list, 'num_bitstring': num_bitstring}\n",
    "with open(f'Noise_model_test3.json', 'w') as file:\n",
    "    json.dump(result, file)"
   ],
   "metadata": {
    "collapsed": false
   },
   "id": "f24681dc04d99a06",
   "execution_count": null
  },
  {
   "cell_type": "code",
   "outputs": [],
   "source": [],
   "metadata": {
    "collapsed": false
   },
   "id": "fbd73ead1e4ac901"
  }
 ],
 "metadata": {
  "kernelspec": {
   "display_name": "Python 3",
   "language": "python",
   "name": "python3"
  },
  "language_info": {
   "codemirror_mode": {
    "name": "ipython",
    "version": 2
   },
   "file_extension": ".py",
   "mimetype": "text/x-python",
   "name": "python",
   "nbconvert_exporter": "python",
   "pygments_lexer": "ipython2",
   "version": "2.7.6"
  }
 },
 "nbformat": 4,
 "nbformat_minor": 5
}
